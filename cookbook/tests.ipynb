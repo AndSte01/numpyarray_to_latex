{
 "cells": [
  {
   "cell_type": "code",
   "execution_count": 11,
   "metadata": {},
   "outputs": [],
   "source": [
    "import numpy as np\n",
    "from numpyarray_to_latex.jupyter import to_jup\n",
    "from numpyarray_to_latex import to_ltx"
   ]
  },
  {
   "cell_type": "code",
   "execution_count": 12,
   "metadata": {},
   "outputs": [],
   "source": [
    "A = np.arange(100).reshape(10,10).astype(float)\n",
    "B = (np.arange(9)-4).reshape(3,3).astype(float)\n",
    "C = (np.arange(9)-2).reshape(3,3).astype(float)\n",
    "D = np.arange(4).astype(float)\n",
    "E = B.copy()\n",
    "E[1,1] = 1e27\n",
    "E[1,2] = 1e-27\n",
    "F = B + 1j * E * 10**C\n",
    "G = B + 1j * C"
   ]
  },
  {
   "cell_type": "code",
   "execution_count": 13,
   "metadata": {},
   "outputs": [
    {
     "data": {
      "text/latex": [
       "$\\displaystyle \\require{color}\n",
       "\\left(\n",
       "\\begin{array}{c|c|cccccccc}\n",
       "    0.00 &    1.00 &    2.00 &    3.00 &    4.00 &    5.00 &    6.00 &    7.00 &    8.00 &    9.00\\\\\n",
       "  \\hline\n",
       "   10.00 & \\colorbox{pink}{$  11.00$}   &   12.00 &   13.00 &   14.00 &   15.00 &   16.00 &   17.00 &   18.00 &   19.00\\\\\n",
       "  \\hline\n",
       "   20.00 &   21.00 &   22.00 & \\colorbox{pink}{$  23.00$}   &   24.00 &   25.00 &   26.00 &   27.00 &   28.00 &   29.00\\\\\n",
       "   30.00 &   31.00 &   32.00 &   33.00 &   34.00 &   35.00 &   36.00 &   37.00 &   38.00 &   39.00\\\\\n",
       "   40.00 &   41.00 &   42.00 &   43.00 &   44.00 &   45.00 &   46.00 &   47.00 &   48.00 &   49.00\\\\\n",
       "   50.00 &   51.00 &   52.00 &   53.00 &   54.00 &   55.00 &   56.00 &   57.00 &   58.00 &   59.00\\\\\n",
       "   60.00 &   61.00 &   62.00 &   63.00 &   64.00 &   65.00 &   66.00 &   67.00 &   68.00 &   69.00\\\\\n",
       " \\colorbox{pink}{$  70.00$}   &   71.00 &   72.00 &   73.00 &   74.00 &   75.00 &   76.00 &   77.00 &   78.00 &   79.00\\\\\n",
       "   80.00 &   81.00 &   82.00 &   83.00 &   84.00 &   85.00 &   86.00 &   87.00 &   88.00 &   89.00\\\\\n",
       "   90.00 &   91.00 &   92.00 &   93.00 &   94.00 &   95.00 &   96.00 &   97.00 &   98.00 &   99.00\n",
       "\\end{array}\n",
       "\\right)$"
      ],
      "text/plain": [
       "<IPython.core.display.Math object>"
      ]
     },
     "metadata": {},
     "output_type": "display_data"
    },
    {
     "name": "stdout",
     "output_type": "stream",
     "text": [
      "\\left(\n",
      "\\begin{array}{c|c|cccccccc}\n",
      "  0.0000 &  1.0000 &  2.0000 &  3.0000 &  4.0000 &  5.0000 &  6.0000 &  7.0000 &  8.0000 &  9.0000\\\\\n",
      "  \\hline\n",
      "  10.0000 & \\colorbox{pink}{$ 11.0000$}   &  12.0000 &  13.0000 &  14.0000 &  15.0000 &  16.0000 &  17.0000 &  18.0000 &  19.0000\\\\\n",
      "  \\hline\n",
      "  20.0000 &  21.0000 &  22.0000 & \\colorbox{pink}{$ 23.0000$}   &  24.0000 &  25.0000 &  26.0000 &  27.0000 &  28.0000 &  29.0000\\\\\n",
      "  30.0000 &  31.0000 &  32.0000 &  33.0000 &  34.0000 &  35.0000 &  36.0000 &  37.0000 &  38.0000 &  39.0000\\\\\n",
      "  40.0000 &  41.0000 &  42.0000 &  43.0000 &  44.0000 &  45.0000 &  46.0000 &  47.0000 &  48.0000 &  49.0000\\\\\n",
      "  50.0000 &  51.0000 &  52.0000 &  53.0000 &  54.0000 &  55.0000 &  56.0000 &  57.0000 &  58.0000 &  59.0000\\\\\n",
      "  60.0000 &  61.0000 &  62.0000 &  63.0000 &  64.0000 &  65.0000 &  66.0000 &  67.0000 &  68.0000 &  69.0000\\\\\n",
      " \\colorbox{pink}{$ 70.0000$}   &  71.0000 &  72.0000 &  73.0000 &  74.0000 &  75.0000 &  76.0000 &  77.0000 &  78.0000 &  79.0000\\\\\n",
      "  80.0000 &  81.0000 &  82.0000 &  83.0000 &  84.0000 &  85.0000 &  86.0000 &  87.0000 &  88.0000 &  89.0000\\\\\n",
      "  90.0000 &  91.0000 &  92.0000 &  93.0000 &  94.0000 &  95.0000 &  96.0000 &  97.0000 &  98.0000 &  99.0000\n",
      "\\end{array}\n",
      "\\right)\n"
     ]
    }
   ],
   "source": [
    "to_jup(A,\n",
    "       mark_elements=[(1,1),(2,3),(7,0)],\n",
    "       separate_columns=[1,2],\n",
    "       separate_rows=[1,2],\n",
    "      )\n",
    "print(to_ltx(A,\n",
    "       mark_elements=[(1,1),(2,3),(7,0)],\n",
    "       separate_columns=[1,2],\n",
    "       separate_rows=[1,2],\n",
    "      ))"
   ]
  },
  {
   "cell_type": "code",
   "execution_count": 14,
   "metadata": {},
   "outputs": [
    {
     "data": {
      "text/latex": [
       "$\\displaystyle \\require{color}\n",
       "\\left(\n",
       "\\begin{array}{c|c|cc}\n",
       "    0.00 & \\colorbox{pink}{$   1.00$}   &    2.00 &    3.00\n",
       "\\end{array}\n",
       "\\right)$"
      ],
      "text/plain": [
       "<IPython.core.display.Math object>"
      ]
     },
     "metadata": {},
     "output_type": "display_data"
    }
   ],
   "source": [
    "to_jup(D,\n",
    "       mark_elements=[1,],\n",
    "       separate_columns=[1,2],\n",
    "       separate_rows=[1,2],\n",
    "      )"
   ]
  },
  {
   "cell_type": "code",
   "execution_count": 15,
   "metadata": {},
   "outputs": [
    {
     "data": {
      "text/latex": [
       "$\\displaystyle \\require{color}\n",
       "\\left(\n",
       "\\begin{array}{c}\n",
       "    0.00\\\\\n",
       "  \\hline\n",
       " \\colorbox{yellow}{$   1.00$}  \\\\\n",
       "  \\hline\n",
       "    2.00\\\\\n",
       "    3.00\n",
       "\\end{array}\n",
       "\\right]$"
      ],
      "text/plain": [
       "<IPython.core.display.Math object>"
      ]
     },
     "metadata": {},
     "output_type": "display_data"
    }
   ],
   "source": [
    "to_jup(D,\n",
    "       is_row_vector=False,\n",
    "       mark_elements=[1,],\n",
    "       separate_columns=[1,2],\n",
    "       separate_rows=[1,2],\n",
    "       mark_color='yellow',\n",
    "       brackets='(]',\n",
    "      )"
   ]
  },
  {
   "cell_type": "code",
   "execution_count": 16,
   "metadata": {},
   "outputs": [
    {
     "data": {
      "text/latex": [
       "$\\displaystyle \\begin{Vmatrix}{}\n",
       "    0.00\\\\\n",
       "  \\hline\n",
       "    1.00\\\\\n",
       "  \\hline\n",
       "    2.00\\\\\n",
       "    3.00\n",
       "\\end{Vmatrix}$"
      ],
      "text/plain": [
       "<IPython.core.display.Math object>"
      ]
     },
     "metadata": {},
     "output_type": "display_data"
    }
   ],
   "source": [
    "to_jup(D,\n",
    "       latexarraytype='Vmatrix',\n",
    "       is_row_vector=False,\n",
    "       separate_rows=[1,2],\n",
    "      )"
   ]
  },
  {
   "cell_type": "code",
   "execution_count": 17,
   "metadata": {},
   "outputs": [
    {
     "data": {
      "text/latex": [
       "$\\displaystyle \\require{color}\n",
       "\\left(\n",
       "\\begin{array}{}\n",
       " -4.00-2.00i & \\colorbox{pink}{$-3.00-1.00i$}   & -2.00+0.00i\\\\\n",
       " -1.00+1.00i &  0.00+2.00i &  1.00+3.00i\\\\\n",
       "  2.00+4.00i &  3.00+5.00i &  4.00+6.00i\n",
       "\\end{array}\n",
       "\\right)$"
      ],
      "text/plain": [
       "<IPython.core.display.Math object>"
      ]
     },
     "metadata": {},
     "output_type": "display_data"
    }
   ],
   "source": [
    "to_jup(G,\n",
    "       mark_elements=[(0,1)],\n",
    "      )"
   ]
  },
  {
   "cell_type": "code",
   "execution_count": 18,
   "metadata": {},
   "outputs": [
    {
     "data": {
      "text/latex": [
       "$\\displaystyle \\require{color}\n",
       "\\left(\n",
       "\\begin{array}{}\n",
       " -4.00-4.00\\times 10^{-2}i & \\colorbox{pink}{$-3.00-3.00\\times 10^{-1}i$}   & -2.00-2.00i\\\\\n",
       " -1.00-1.00\\times 10^{1}i &  0.00+1.00\\times 10^{29}i &  1.00+1.00\\times 10^{-24}i\\\\\n",
       "  2.00+2.00\\times 10^{4}i &  3.00+3.00\\times 10^{5}i &  4.00+4.00\\times 10^{6}i\n",
       "\\end{array}\n",
       "\\right)$"
      ],
      "text/plain": [
       "<IPython.core.display.Math object>"
      ]
     },
     "metadata": {},
     "output_type": "display_data"
    }
   ],
   "source": [
    "to_jup(F,\n",
    "       mark_elements=[(0,1)],\n",
    "       fmt='{:4.2e}',\n",
    "      )"
   ]
  },
  {
   "cell_type": "code",
   "execution_count": 19,
   "metadata": {},
   "outputs": [
    {
     "name": "stdout",
     "output_type": "stream",
     "text": [
      "\\left(\n",
      "\\begin{array}{c|c|c}\n",
      " -4.0000 & -3.0000 & -2.0000\\\\\n",
      "  \\hline\n",
      " -1.0000 & \\colorbox{yellow}{$ 0.0000$}   &  1.0000\\\\\n",
      "  \\hline\n",
      "  2.0000 &  3.0000 &  4.0000\n",
      "\\end{array}\n",
      "\\right]\n"
     ]
    }
   ],
   "source": [
    "print(to_ltx(B,\n",
    "       latexarraytype='array',\n",
    "       is_row_vector=False,\n",
    "       mark_color='yellow',\n",
    "       mark_elements=[(1,1)], \n",
    "       brackets='(]',\n",
    "       separate_columns=[1,2],\n",
    "       separate_rows=[1,2],))"
   ]
  },
  {
   "cell_type": "code",
   "execution_count": null,
   "metadata": {},
   "outputs": [],
   "source": []
  },
  {
   "cell_type": "code",
   "execution_count": null,
   "metadata": {},
   "outputs": [],
   "source": []
  }
 ],
 "metadata": {
  "kernelspec": {
   "display_name": "Python 3",
   "language": "python",
   "name": "python3"
  },
  "language_info": {
   "codemirror_mode": {
    "name": "ipython",
    "version": 3
   },
   "file_extension": ".py",
   "mimetype": "text/x-python",
   "name": "python",
   "nbconvert_exporter": "python",
   "pygments_lexer": "ipython3",
   "version": "3.8.9"
  }
 },
 "nbformat": 4,
 "nbformat_minor": 4
}
