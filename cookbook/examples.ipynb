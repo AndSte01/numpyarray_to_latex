{
 "cells": [
  {
   "cell_type": "code",
   "execution_count": 2,
   "metadata": {},
   "outputs": [],
   "source": [
    "import numpy as np\n",
    "from numpyarray_to_latex.jupyter import to_jup\n",
    "from numpyarray_to_latex import to_ltx"
   ]
  },
  {
   "cell_type": "code",
   "execution_count": 3,
   "metadata": {},
   "outputs": [
    {
     "name": "stdout",
     "output_type": "stream",
     "text": [
      "\\left(\n",
      "\\begin{array}{}\n",
      " -0.1633 & -0.5733\\\\\n",
      " -0.4036 & -0.7339\n",
      "\\end{array}\n",
      "\\right)\n"
     ]
    }
   ],
   "source": [
    "tex = to_ltx(np.random.randn(2,2))\n",
    "print(tex)"
   ]
  },
  {
   "cell_type": "code",
   "execution_count": 4,
   "metadata": {},
   "outputs": [
    {
     "data": {
      "text/latex": [
       "$\\displaystyle \\require{color}\n",
       "\\left(\n",
       "\\begin{array}{c|c|cccccccc}\n",
       "  -1.41 &  -1.73 &  -0.29 &  -0.64 &  -0.10 &    0.33 &    0.04 &  -1.31 &  -0.60 &  -0.35\\\\\n",
       "  \\hline\n",
       "    0.13 & \\colorbox{pink}{$ -0.09$}   &  -0.94 &    0.49 &    0.59 &  -0.32 &    0.29 &    0.30 &    1.30 &  -0.19\\\\\n",
       "  \\hline\n",
       "    1.09 &  -1.54 &  -0.08 & \\colorbox{pink}{$ -0.13$}   &  -1.10 &  -0.84 &  -1.16 &  -0.48 &    1.50 &  -0.84\\\\\n",
       "  -0.01 &  -0.71 &  -0.09 &  -1.66 &  -0.16 &  -1.33 &    1.22 &  -1.40 &    0.34 &    0.12\\\\\n",
       "    0.04 &  -0.66 &    1.78 &    0.59 &    0.43 &  -0.14 &    0.31 &  -0.28 &  -0.29 &    2.00\\\\\n",
       "    1.00 &    0.74 &  -0.07 &    1.90 &    1.19 &    0.96 &  -1.55 &    1.24 &    1.93 &    0.35\\\\\n",
       "  -0.56 &    1.16 &    1.03 &  -0.30 &    0.22 &  -0.03 &    0.96 &    1.05 &    0.15 &    0.88\\\\\n",
       " \\colorbox{pink}{$ -1.08$}   &    1.09 &  -0.29 &    0.44 &    0.54 &    0.92 &    0.38 &    0.37 &    1.58 &    0.39\\\\\n",
       "  -0.66 &  -0.69 &  -0.18 &  -0.49 &  -0.67 &  -0.19 &    0.39 &    0.49 &    1.45 &  -1.65\\\\\n",
       "  -0.15 &  -0.98 &  -0.18 &  -1.45 &    0.72 &    0.39 &  -1.46 &    0.86 &    0.38 &  -0.72\n",
       "\\end{array}\n",
       "\\right)$"
      ],
      "text/plain": [
       "<IPython.core.display.Math object>"
      ]
     },
     "metadata": {},
     "output_type": "display_data"
    }
   ],
   "source": [
    "to_jup(np.random.randn(10,10),\n",
    "       mark_elements=[(1,1),(2,3),(7,0)],\n",
    "       separate_columns=[1,2],\n",
    "       separate_rows=[1,2],\n",
    "      )"
   ]
  },
  {
   "cell_type": "code",
   "execution_count": 5,
   "metadata": {},
   "outputs": [
    {
     "data": {
      "text/latex": [
       "$\\displaystyle \\require{color}\n",
       "\\left(\n",
       "\\begin{array}{c|c}\n",
       "  -0.38 & \\colorbox{pink}{$ -1.16$}  \n",
       "\\end{array}\n",
       "\\right)$"
      ],
      "text/plain": [
       "<IPython.core.display.Math object>"
      ]
     },
     "metadata": {},
     "output_type": "display_data"
    }
   ],
   "source": [
    "to_jup(np.random.randn(2),\n",
    "       mark_elements=[1,],\n",
    "       separate_columns=[1,2],\n",
    "       separate_rows=[1,2],\n",
    "      )"
   ]
  },
  {
   "cell_type": "code",
   "execution_count": 9,
   "metadata": {},
   "outputs": [
    {
     "data": {
      "text/latex": [
       "$\\displaystyle \\require{color}\n",
       "\\left(\n",
       "\\begin{array}{c}\n",
       "    0.66\\\\\n",
       "  \\hline\n",
       " \\colorbox{yellow}{$   0.39$}  \n",
       "\\end{array}\n",
       "\\right]$"
      ],
      "text/plain": [
       "<IPython.core.display.Math object>"
      ]
     },
     "metadata": {},
     "output_type": "display_data"
    }
   ],
   "source": [
    "to_jup(np.random.randn(2),\n",
    "       is_row_vector=False,\n",
    "       mark_elements=[1,],\n",
    "       separate_columns=[1,2],\n",
    "       separate_rows=[1],\n",
    "       mark_color='yellow',\n",
    "       brackets='(]',\n",
    "      )"
   ]
  },
  {
   "cell_type": "code",
   "execution_count": 10,
   "metadata": {},
   "outputs": [
    {
     "data": {
      "text/latex": [
       "$\\displaystyle \\begin{Vmatrix}{}\n",
       "    0.18 &  -0.32\\\\\n",
       "  \\hline\n",
       "    2.40 &  -0.69\n",
       "\\end{Vmatrix}$"
      ],
      "text/plain": [
       "<IPython.core.display.Math object>"
      ]
     },
     "metadata": {},
     "output_type": "display_data"
    }
   ],
   "source": [
    "to_jup(np.random.randn(2,2),\n",
    "       latexarraytype='Vmatrix',\n",
    "       is_row_vector=False,\n",
    "       separate_rows=[1,2,3,4],\n",
    "      )"
   ]
  },
  {
   "cell_type": "code",
   "execution_count": 7,
   "metadata": {},
   "outputs": [
    {
     "data": {
      "text/latex": [
       "$\\displaystyle \\require{color}\n",
       "\\left(\n",
       "\\begin{array}{}\n",
       " -0.18-1.14i & \\colorbox{pink}{$-1.04-0.11i$}  \\\\\n",
       "  0.72-0.64i &  1.44-2.70i\n",
       "\\end{array}\n",
       "\\right)$"
      ],
      "text/plain": [
       "<IPython.core.display.Math object>"
      ]
     },
     "metadata": {},
     "output_type": "display_data"
    }
   ],
   "source": [
    "to_jup(np.random.randn(2,2)+1j*np.random.randn(2,2),\n",
    "       mark_elements=[(0,1)],\n",
    "      )"
   ]
  },
  {
   "cell_type": "code",
   "execution_count": 16,
   "metadata": {},
   "outputs": [
    {
     "data": {
      "text/latex": [
       "$\\displaystyle \\require{color}\n",
       "\\left(\n",
       "\\begin{array}{}\n",
       "  3.48\\times 10^{-1}+7.12\\times 10^{-1}i & \\colorbox{pink}{$ 3.09\\times 10^{-2}-1.56\\times 10^{-2}i$}  \\\\\n",
       "  1.23-6.62\\times 10^{-1}i & -5.29\\times 10^{-1}+3.92\\times 10^{-1}i\n",
       "\\end{array}\n",
       "\\right)$"
      ],
      "text/plain": [
       "<IPython.core.display.Math object>"
      ]
     },
     "metadata": {},
     "output_type": "display_data"
    },
    {
     "name": "stdout",
     "output_type": "stream",
     "text": [
      "[[ 0.34831424+0.7123187j   0.03090006-0.01558483j]\n",
      " [ 1.23418105-0.66231176j -0.52864598+0.39191752j]]\n"
     ]
    }
   ],
   "source": [
    "A = np.random.randn(2,2)+1j*np.random.randn(2,2)\n",
    "to_jup(A,\n",
    "       mark_elements=[(0,1)],\n",
    "       fmt='{:4.2e}',\n",
    "      )\n",
    "print(A)"
   ]
  },
  {
   "cell_type": "code",
   "execution_count": 11,
   "metadata": {},
   "outputs": [
    {
     "name": "stdout",
     "output_type": "stream",
     "text": [
      "\\left(\n",
      "\\begin{array}{c|c}\n",
      "  0.1004 &  0.7934\\\\\n",
      "  \\hline\n",
      "  1.1031 & \\colorbox{yellow}{$ 0.2018$}  \n",
      "\\end{array}\n",
      "\\right]\n"
     ]
    }
   ],
   "source": [
    "print(to_ltx(np.random.randn(2,2),\n",
    "       latexarraytype='array',\n",
    "       is_row_vector=False,\n",
    "       mark_color='yellow',\n",
    "       mark_elements=[(1,1)], \n",
    "       brackets='(]',\n",
    "       separate_columns=[1,2],\n",
    "       separate_rows=[1,2],))"
   ]
  },
  {
   "cell_type": "code",
   "execution_count": null,
   "metadata": {},
   "outputs": [],
   "source": []
  }
 ],
 "metadata": {
  "kernelspec": {
   "display_name": "Python 3",
   "language": "python",
   "name": "python3"
  },
  "language_info": {
   "codemirror_mode": {
    "name": "ipython",
    "version": 3
   },
   "file_extension": ".py",
   "mimetype": "text/x-python",
   "name": "python",
   "nbconvert_exporter": "python",
   "pygments_lexer": "ipython3",
   "version": "3.8.9"
  }
 },
 "nbformat": 4,
 "nbformat_minor": 4
}
