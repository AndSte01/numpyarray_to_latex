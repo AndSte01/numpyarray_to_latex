{
 "cells": [
  {
   "cell_type": "code",
   "execution_count": 1,
   "metadata": {},
   "outputs": [],
   "source": [
    "import numpy as np\n",
    "from numpyarray_to_latex.jupyter import to_jup\n",
    "from numpyarray_to_latex import to_ltx"
   ]
  },
  {
   "cell_type": "code",
   "execution_count": 2,
   "metadata": {},
   "outputs": [
    {
     "name": "stdout",
     "output_type": "stream",
     "text": [
      "\\left(\n",
      "\\begin{array}\n",
      "  2.0156 & -0.3230\\\\\n",
      "  0.0477 &  0.0184\n",
      "\\end{array}\n",
      "\\right)\n"
     ]
    }
   ],
   "source": [
    "tex = to_ltx(np.random.randn(2,2))\n",
    "print(tex)"
   ]
  },
  {
   "cell_type": "code",
   "execution_count": 3,
   "metadata": {},
   "outputs": [
    {
     "data": {
      "text/latex": [
       "$\\displaystyle \\require{color}\n",
       "\\left(\n",
       "\\begin{array}{c|c|cccccccc}\n",
       "  -0.60 &  -0.25 &    0.78 &  -1.51 &    0.23 &  -1.09 &    1.83 &    0.20 &    0.53 &  -0.36\\\\\n",
       "  \\hline\n",
       "    1.57 & \\colorbox{pink}{$   0.11$}   &    0.10 &  -0.01 &    0.32 &    0.63 &  -1.29 &  -1.51 &    1.70 &  -0.23\\\\\n",
       "  \\hline\n",
       "    0.05 &  -0.02 &  -1.21 & \\colorbox{pink}{$ -0.59$}   &    1.40 &    1.08 &    0.73 &  -0.02 &  -1.35 &    0.09\\\\\n",
       "    0.12 &  -0.33 &  -0.77 &  -0.21 &    1.72 &    0.27 &    1.71 &    0.22 &    1.84 &  -0.33\\\\\n",
       "    1.03 &  -2.00 &    0.95 &  -0.94 &    0.37 &  -0.64 &  -0.05 &    0.37 &  -0.86 &    0.01\\\\\n",
       "  -2.01 &    0.51 &    1.54 &    0.62 &    0.61 &  -0.52 &    0.02 &  -1.28 &  -0.35 &  -0.12\\\\\n",
       "    0.38 &  -0.06 &    1.03 &  -0.35 &    1.54 &  -0.20 &  -1.75 &  -0.39 &    0.30 &    0.66\\\\\n",
       " \\colorbox{pink}{$   0.43$}   &  -1.78 &  -0.30 &    1.36 &  -0.70 &    0.40 &    0.41 &    0.75 &  -1.62 &    0.28\\\\\n",
       "    0.49 &    0.83 &  -0.55 &    0.62 &  -0.37 &  -0.12 &  -1.42 &    1.97 &  -0.28 &  -0.16\\\\\n",
       "    0.02 &  -1.31 &    0.12 &  -0.99 &    1.72 &    0.52 &  -1.89 &    0.90 &  -0.05 &    1.77\n",
       "\\end{array}\n",
       "\\right)$"
      ],
      "text/plain": [
       "<IPython.core.display.Math object>"
      ]
     },
     "metadata": {},
     "output_type": "display_data"
    }
   ],
   "source": [
    "to_jup(np.random.randn(10,10),\n",
    "       mark_elements=[(1,1),(2,3),(7,0)],\n",
    "       separate_columns=[0,1],\n",
    "       separate_rows=[0,1],\n",
    "      )"
   ]
  },
  {
   "cell_type": "code",
   "execution_count": 4,
   "metadata": {},
   "outputs": [
    {
     "data": {
      "text/latex": [
       "$\\displaystyle \\require{color}\n",
       "\\left(\n",
       "\\begin{array}{c|c}\n",
       "    0.03 & \\colorbox{pink}{$   0.30$}\n",
       "\\end{array}\n",
       "\\right)$"
      ],
      "text/plain": [
       "<IPython.core.display.Math object>"
      ]
     },
     "metadata": {},
     "output_type": "display_data"
    }
   ],
   "source": [
    "to_jup(np.random.randn(2),\n",
    "       mark_elements=[1,],\n",
    "       separate_columns=[0,1],\n",
    "       separate_rows=[0,1],\n",
    "      )"
   ]
  },
  {
   "cell_type": "code",
   "execution_count": 5,
   "metadata": {},
   "outputs": [
    {
     "data": {
      "text/latex": [
       "$\\displaystyle \\require{color}\n",
       "\\left(\n",
       "\\begin{array}{c}\n",
       "  -0.73\\\\\n",
       "  \\hline\n",
       " \\colorbox{yellow}{$   0.27$}\n",
       "\\end{array}\n",
       "\\right]$"
      ],
      "text/plain": [
       "<IPython.core.display.Math object>"
      ]
     },
     "metadata": {},
     "output_type": "display_data"
    }
   ],
   "source": [
    "to_jup(np.random.randn(2),\n",
    "       is_row_vector=False,\n",
    "       mark_elements=[1,],\n",
    "       separate_columns=[0,1],\n",
    "       separate_rows=[0,1],\n",
    "       mark_color='yellow',\n",
    "       brackets='(]',\n",
    "      )"
   ]
  },
  {
   "cell_type": "code",
   "execution_count": 6,
   "metadata": {},
   "outputs": [
    {
     "data": {
      "text/latex": [
       "$\\displaystyle \\require{color}\n",
       "\\begin{Vmatrix}\n",
       "    1.11 &  -1.75\\\\\n",
       "  \\hline\n",
       "  -0.99 &    0.47\n",
       "\\end{Vmatrix}$"
      ],
      "text/plain": [
       "<IPython.core.display.Math object>"
      ]
     },
     "metadata": {},
     "output_type": "display_data"
    }
   ],
   "source": [
    "to_jup(np.random.randn(2,2),\n",
    "       latexarraytype='Vmatrix',\n",
    "       is_row_vector=False,\n",
    "       separate_rows=[0,1],\n",
    "      )"
   ]
  },
  {
   "cell_type": "code",
   "execution_count": 7,
   "metadata": {},
   "outputs": [
    {
     "data": {
      "text/latex": [
       "$\\displaystyle \\require{color}\n",
       "\\left(\n",
       "\\begin{array}\n",
       "    2.76+ -0.85i & \\colorbox{pink}{$   1.07+ -1.39i$}  \\\\\n",
       "    0.08+  1.39i &  -0.35+  0.03\n",
       "\\end{array}\n",
       "\\right)$"
      ],
      "text/plain": [
       "<IPython.core.display.Math object>"
      ]
     },
     "metadata": {},
     "output_type": "display_data"
    }
   ],
   "source": [
    "to_jup(np.random.randn(2,2)+1j*np.random.randn(2,2),\n",
    "       mark_elements=[(0,1)],\n",
    "      )"
   ]
  },
  {
   "cell_type": "code",
   "execution_count": 8,
   "metadata": {},
   "outputs": [
    {
     "data": {
      "text/latex": [
       "$\\displaystyle \\require{color}\n",
       "\\left(\n",
       "\\begin{array}\n",
       "  3.88\\times 10^{-1}-1.93\\times 10^{-1}i & \\colorbox{pink}{$ 1.70-5.96\\times 10^{-1}i$}  \\\\\n",
       " -8.87\\times 10^{-1}+1.17i & -1.12+1.53\n",
       "\\end{array}\n",
       "\\right)$"
      ],
      "text/plain": [
       "<IPython.core.display.Math object>"
      ]
     },
     "metadata": {},
     "output_type": "display_data"
    }
   ],
   "source": [
    "to_jup(np.random.randn(2,2)+1j*np.random.randn(2,2),\n",
    "       mark_elements=[(0,1)],\n",
    "       fmt='{:4.2e}',\n",
    "      )"
   ]
  },
  {
   "cell_type": "code",
   "execution_count": 9,
   "metadata": {},
   "outputs": [
    {
     "name": "stdout",
     "output_type": "stream",
     "text": [
      "\\left(\n",
      "\\begin{array}{c|c}\n",
      "  0.3498 &  0.4393\\\\\n",
      "  \\hline\n",
      " -0.8521 & \\colorbox{yellow}{$-0.6412$}\n",
      "\\end{array}\n",
      "\\right]\n"
     ]
    }
   ],
   "source": [
    "print(to_ltx(np.random.randn(2,2),\n",
    "       latexarraytype='array',\n",
    "       is_row_vector=False,\n",
    "       mark_color='yellow',\n",
    "       mark_elements=[(1,1)], \n",
    "       brackets='(]',\n",
    "       separate_columns=[0,1],\n",
    "       separate_rows=[0,1],))"
   ]
  },
  {
   "cell_type": "code",
   "execution_count": null,
   "metadata": {},
   "outputs": [],
   "source": []
  }
 ],
 "metadata": {
  "kernelspec": {
   "display_name": "Python 3",
   "language": "python",
   "name": "python3"
  },
  "language_info": {
   "codemirror_mode": {
    "name": "ipython",
    "version": 3
   },
   "file_extension": ".py",
   "mimetype": "text/x-python",
   "name": "python",
   "nbconvert_exporter": "python",
   "pygments_lexer": "ipython3",
   "version": "3.8.9"
  }
 },
 "nbformat": 4,
 "nbformat_minor": 4
}
