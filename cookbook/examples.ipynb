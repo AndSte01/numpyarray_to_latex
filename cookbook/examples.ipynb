{
 "cells": [
  {
   "cell_type": "code",
   "execution_count": 1,
   "metadata": {},
   "outputs": [],
   "source": [
    "import numpy as np\n",
    "from numpyarray_to_latex.jupyter import to_jup\n",
    "from numpyarray_to_latex import to_ltx"
   ]
  },
  {
   "cell_type": "code",
   "execution_count": 2,
   "metadata": {},
   "outputs": [
    {
     "name": "stdout",
     "output_type": "stream",
     "text": [
      "\\left(\n",
      "\\begin{array}{}\n",
      " -0.5414 &  0.1454\\\\\n",
      "  0.2896 & -0.2315\n",
      "\\end{array}\n",
      "\\right)\n"
     ]
    }
   ],
   "source": [
    "tex = to_ltx(np.random.randn(2,2))\n",
    "print(tex)"
   ]
  },
  {
   "cell_type": "code",
   "execution_count": 3,
   "metadata": {},
   "outputs": [
    {
     "data": {
      "text/latex": [
       "$\\displaystyle \\require{color}\n",
       "\\left(\n",
       "\\begin{array}{c|c|cccccccc}\n",
       "  -0.40 &  -0.55 &    1.51 &    0.86 &  -0.57 &  -0.06 &  -1.60 &  -0.17 &    1.88 &    0.92\\\\\n",
       "  \\hline\n",
       "    1.63 & \\colorbox{pink}{$   0.01$}   &  -1.01 &    1.00 &    0.08 &    0.14 &    1.38 &    0.41 &    1.21 &  -0.69\\\\\n",
       "  \\hline\n",
       "    0.57 &  -0.13 &  -0.09 & \\colorbox{pink}{$ -1.02$}   &  -0.81 &  -1.90 &    0.27 &  -1.21 &    0.48 &  -0.60\\\\\n",
       "  -1.55 &  -0.38 &    2.89 &  -0.85 &    0.07 &    1.03 &  -1.50 &    0.25 &  -0.04 &  -0.98\\\\\n",
       "  -1.81 &    0.96 &    1.82 &    1.64 &  -0.20 &    1.49 &  -0.60 &    1.57 &    0.69 &    0.12\\\\\n",
       "    0.60 &  -0.59 &    2.12 &    0.37 &    0.67 &    0.08 &  -0.09 &  -0.22 &  -0.70 &    0.14\\\\\n",
       "  -0.99 &    1.35 &  -0.84 &  -1.94 &    1.32 &  -1.75 &    0.86 &  -1.40 &    0.57 &  -0.86\\\\\n",
       " \\colorbox{pink}{$   1.24$}   &  -0.22 &  -0.17 &    0.42 &  -0.52 &    0.49 &  -0.80 &    0.56 &    1.15 &    2.17\\\\\n",
       "  -0.70 &  -1.88 &  -0.33 &  -0.56 &  -0.66 &  -0.06 &  -0.60 &    0.12 &    1.55 &    0.70\\\\\n",
       "    0.27 &  -2.15 &    0.05 &    0.61 &    0.24 &    0.16 &  -2.19 &  -0.07 &  -0.75 &  -0.37\n",
       "\\end{array}\n",
       "\\right)$"
      ],
      "text/plain": [
       "<IPython.core.display.Math object>"
      ]
     },
     "metadata": {},
     "output_type": "display_data"
    }
   ],
   "source": [
    "to_jup(np.random.randn(10,10),\n",
    "       mark_elements=[(1,1),(2,3),(7,0)],\n",
    "       separate_columns=[0,1],\n",
    "       separate_rows=[0,1],\n",
    "      )"
   ]
  },
  {
   "cell_type": "code",
   "execution_count": 4,
   "metadata": {},
   "outputs": [
    {
     "data": {
      "text/latex": [
       "$\\displaystyle \\require{color}\n",
       "\\left(\n",
       "\\begin{array}{c|c}\n",
       "  -1.15 & \\colorbox{pink}{$   0.01$}\n",
       "\\end{array}\n",
       "\\right)$"
      ],
      "text/plain": [
       "<IPython.core.display.Math object>"
      ]
     },
     "metadata": {},
     "output_type": "display_data"
    }
   ],
   "source": [
    "to_jup(np.random.randn(2),\n",
    "       mark_elements=[1,],\n",
    "       separate_columns=[0,1],\n",
    "       separate_rows=[0,1],\n",
    "      )"
   ]
  },
  {
   "cell_type": "code",
   "execution_count": 5,
   "metadata": {},
   "outputs": [
    {
     "data": {
      "text/latex": [
       "$\\displaystyle \\require{color}\n",
       "\\left(\n",
       "\\begin{array}{c}\n",
       "  -0.55\\\\\n",
       "  \\hline\n",
       " \\colorbox{yellow}{$ -0.35$}\n",
       "\\end{array}\n",
       "\\right]$"
      ],
      "text/plain": [
       "<IPython.core.display.Math object>"
      ]
     },
     "metadata": {},
     "output_type": "display_data"
    }
   ],
   "source": [
    "to_jup(np.random.randn(2),\n",
    "       is_row_vector=False,\n",
    "       mark_elements=[1,],\n",
    "       separate_columns=[0,1],\n",
    "       separate_rows=[0,1],\n",
    "       mark_color='yellow',\n",
    "       brackets='(]',\n",
    "      )"
   ]
  },
  {
   "cell_type": "code",
   "execution_count": 6,
   "metadata": {},
   "outputs": [
    {
     "data": {
      "text/latex": [
       "$\\displaystyle \\begin{Vmatrix}{}\n",
       "  -0.11 &  -0.45\\\\\n",
       "  \\hline\n",
       "  -0.86 &  -0.03\n",
       "\\end{Vmatrix}$"
      ],
      "text/plain": [
       "<IPython.core.display.Math object>"
      ]
     },
     "metadata": {},
     "output_type": "display_data"
    }
   ],
   "source": [
    "to_jup(np.random.randn(2,2),\n",
    "       latexarraytype='Vmatrix',\n",
    "       is_row_vector=False,\n",
    "       separate_rows=[0,1],\n",
    "      )"
   ]
  },
  {
   "cell_type": "code",
   "execution_count": 7,
   "metadata": {},
   "outputs": [
    {
     "data": {
      "text/latex": [
       "$\\displaystyle \\require{color}\n",
       "\\left(\n",
       "\\begin{array}{}\n",
       " -0.18-1.14i & \\colorbox{pink}{$-1.04-0.11i$}  \\\\\n",
       "  0.72-0.64i &  1.44-2.70i\n",
       "\\end{array}\n",
       "\\right)$"
      ],
      "text/plain": [
       "<IPython.core.display.Math object>"
      ]
     },
     "metadata": {},
     "output_type": "display_data"
    }
   ],
   "source": [
    "to_jup(np.random.randn(2,2)+1j*np.random.randn(2,2),\n",
    "       mark_elements=[(0,1)],\n",
    "      )"
   ]
  },
  {
   "cell_type": "code",
   "execution_count": 16,
   "metadata": {},
   "outputs": [
    {
     "data": {
      "text/latex": [
       "$\\displaystyle \\require{color}\n",
       "\\left(\n",
       "\\begin{array}{}\n",
       "  3.48\\times 10^{-1}+7.12\\times 10^{-1}i & \\colorbox{pink}{$ 3.09\\times 10^{-2}-1.56\\times 10^{-2}i$}  \\\\\n",
       "  1.23-6.62\\times 10^{-1}i & -5.29\\times 10^{-1}+3.92\\times 10^{-1}i\n",
       "\\end{array}\n",
       "\\right)$"
      ],
      "text/plain": [
       "<IPython.core.display.Math object>"
      ]
     },
     "metadata": {},
     "output_type": "display_data"
    },
    {
     "name": "stdout",
     "output_type": "stream",
     "text": [
      "[[ 0.34831424+0.7123187j   0.03090006-0.01558483j]\n",
      " [ 1.23418105-0.66231176j -0.52864598+0.39191752j]]\n"
     ]
    }
   ],
   "source": [
    "A = np.random.randn(2,2)+1j*np.random.randn(2,2)\n",
    "to_jup(A,\n",
    "       mark_elements=[(0,1)],\n",
    "       fmt='{:4.2e}',\n",
    "      )\n",
    "print(A)"
   ]
  },
  {
   "cell_type": "code",
   "execution_count": 9,
   "metadata": {},
   "outputs": [
    {
     "name": "stdout",
     "output_type": "stream",
     "text": [
      "\\left(\n",
      "\\begin{array}{c|c}\n",
      "  0.6664 & -0.7136\\\\\n",
      "  \\hline\n",
      " -1.4570 & \\colorbox{yellow}{$ 0.6575$}\n",
      "\\end{array}\n",
      "\\right]\n"
     ]
    }
   ],
   "source": [
    "print(to_ltx(np.random.randn(2,2),\n",
    "       latexarraytype='array',\n",
    "       is_row_vector=False,\n",
    "       mark_color='yellow',\n",
    "       mark_elements=[(1,1)], \n",
    "       brackets='(]',\n",
    "       separate_columns=[0,1],\n",
    "       separate_rows=[0,1],))"
   ]
  },
  {
   "cell_type": "code",
   "execution_count": null,
   "metadata": {},
   "outputs": [],
   "source": []
  }
 ],
 "metadata": {
  "kernelspec": {
   "display_name": "Python 3",
   "language": "python",
   "name": "python3"
  },
  "language_info": {
   "codemirror_mode": {
    "name": "ipython",
    "version": 3
   },
   "file_extension": ".py",
   "mimetype": "text/x-python",
   "name": "python",
   "nbconvert_exporter": "python",
   "pygments_lexer": "ipython3",
   "version": "3.8.9"
  }
 },
 "nbformat": 4,
 "nbformat_minor": 4
}
